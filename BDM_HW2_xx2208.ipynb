{
  "nbformat": 4,
  "nbformat_minor": 0,
  "metadata": {
    "colab": {
      "name": "BDM_HW2_xx2208",
      "provenance": [],
      "collapsed_sections": []
    },
    "kernelspec": {
      "name": "python3",
      "display_name": "Python 3"
    }
  },
  "cells": [
    {
      "cell_type": "markdown",
      "metadata": {
        "id": "lvnKTXzOO5p_"
      },
      "source": [
        "# Homework 2 - MapReduce"
      ]
    },
    {
      "cell_type": "markdown",
      "metadata": {
        "id": "4D1Sn_NiL9Ls"
      },
      "source": [
        "This homework explore [Safegraph data](https://www.safegraph.com/covid-19-data-consortium) to better understand how NYC response to the COVID-19 pandemic. We will be looking at the [Places](https://docs.safegraph.com/docs/core-places) data set and the [Weekly Pattern](https://docs.safegraph.com/docs/weekly-patterns) data set to answer the following inquiry:\n",
        "\n",
        "> How many restaurants were closed from 03/17/20 (when the lock down started), and how many were closed from 04/01/20?\n",
        "\n",
        "### Notes\n",
        "\n",
        "* *NYC*: we only consider restaurants in NYC, which means those with the city listed as `'New York'`, `'Brooklyn'`, `'Queens'`, `'Bronx'`, or `'Staten Island'` (we will miss a lot of Queens restaurants where cities are listed in names other than `'Queens'`).\n",
        "\n",
        "* *Closed*: a restaurant is closed for the listed period if there were visits to the restaurants before 03/17/20 but none afterwards. Note that if the restaurant is closed for an entire week, there would be no report (instead of 7 zeros `[0,0,0,0,0,0,0]`) in the *Weekly Pattern* data set. \n",
        "\n",
        "### Requirements: \n",
        "You must use MRJob and MapReduce in a similar fashion as in Lab.\n",
        "\n",
        "### INPUT:\n",
        "To make it easier, we have already joined (and filtered) the two provided data sets into `nyc_restaurant_pattern.csv`, which has the visits pattern of all NYC restaurants. In other words, you only need to deal with a single input file `nyc_restaurant_pattern.cvs`, and would not need to fetch the original Safegraph data.\n",
        "\n",
        "### OUTPUT:\n",
        "Your MRJob only needs to output two rows as follows, each consists of a label (e.g. `\"The number ...\"`), and a count (e.g. `\"49\"`):\n",
        "```\n",
        "\"The number of restaurants in NYC closed from March 17, 2020\" \"49\"\n",
        "\"The number of restaurants in NYC closed from April 01, 2020\" \"496\"\n",
        "```"
      ]
    },
    {
      "cell_type": "markdown",
      "metadata": {
        "id": "Yx1oVB3NgKXr"
      },
      "source": [
        "## Download Data and Packages"
      ]
    },
    {
      "cell_type": "code",
      "metadata": {
        "id": "WOgEx3Csn1u9",
        "colab": {
          "base_uri": "https://localhost:8080/"
        },
        "outputId": "e8831209-a4c5-4328-bfdf-d365fdb9929e"
      },
      "source": [
        "!gdown --id 1NeXqsAeIJ8zukHt5cR2s19beDoz2Xw5d -O nyc_restaurant_pattern.csv\n",
        "!curl -L \"https://drive.google.com/uc?id=1TVhZgb1SWZbQB21J1hadcW-AIMnRiCL4&confirm=t\" -o mapreduce.py \n",
        "!pip install mrjob\n",
        "\n",
        "!head -n 3 nyc_restaurant_pattern.csv"
      ],
      "execution_count": 1,
      "outputs": [
        {
          "output_type": "stream",
          "name": "stdout",
          "text": [
            "Downloading...\n",
            "From: https://drive.google.com/uc?id=1NeXqsAeIJ8zukHt5cR2s19beDoz2Xw5d\n",
            "To: /content/nyc_restaurant_pattern.csv\n",
            "100% 101M/101M [00:00<00:00, 188MB/s] \n",
            "  % Total    % Received % Xferd  Average Speed   Time    Time     Time  Current\n",
            "                                 Dload  Upload   Total   Spent    Left  Speed\n",
            "  0     0    0     0    0     0      0      0 --:--:-- --:--:-- --:--:--     0\n",
            "100  2663  100  2663    0     0   7007      0 --:--:-- --:--:-- --:--:--  7007\n",
            "Requirement already satisfied: mrjob in /usr/local/lib/python3.7/dist-packages (0.7.4)\n",
            "Requirement already satisfied: PyYAML>=3.10 in /usr/local/lib/python3.7/dist-packages (from mrjob) (3.13)\n",
            "\"placekey\",\"safegraph_place_id\",\"parent_placekey\",\"parent_safegraph_place_id\",\"location_name\",\"street_address\",\"city\",\"region\",\"postal_code\",\"iso_country_code\",\"safegraph_brand_ids\",\"brands\",\"date_range_start\",\"date_range_end\",\"raw_visit_counts\",\"raw_visitor_counts\",\"visits_by_day\",\"visits_by_each_hour\",\"poi_cbg\",\"visitor_home_cbgs\",\"visitor_daytime_cbgs\",\"visitor_country_of_origin\",\"distance_from_home\",\"median_dwell\",\"bucketed_dwell_times\",\"related_same_day_brand\",\"related_same_week_brand\",\"device_type\"\n",
            "22f-225@627-wc2-389,sg:0e54f9ab5a2e45bdbff72f94aa29ad71,,,11 Hanover Greek,11 Hanover Sq,New York,NY,10005,US,,,2020-03-02T00:00:00-05:00,2020-03-09T00:00:00-04:00,3,3,\"[1,0,0,1,1,0,0]\",\"[0,0,0,0,0,0,0,0,0,0,0,0,0,0,0,0,0,0,0,1,0,0,0,0,0,0,0,0,0,0,0,0,0,0,0,0,0,0,0,0,0,0,0,0,0,0,0,0,0,0,0,0,0,0,0,0,0,0,0,0,0,0,0,0,0,0,0,0,0,0,0,0,0,0,0,0,0,0,1,0,0,0,0,0,0,0,0,0,0,0,0,0,0,0,0,0,0,0,0,0,0,0,0,0,1,0,0,0,0,0,0,0,0,0,0,0,0,0,0,0,0,0,0,0,0,0,0,0,0,0,0,0,0,0,0,0,0,0,0,0,0,0,0,0,0,0,0,0,0,0,0,0,0,0,0,0,0,0,0,0,0,0,0,0,0,0,0,0]\",360610007001,{},{},\"{\"\"US\"\":5}\",,254.0,\"{\"\"<5\"\":0,\"\"5-10\"\":0,\"\"11-20\"\":0,\"\"21-60\"\":1,\"\"61-120\"\":0,\"\"121-240\"\":0,\"\">240\"\":2}\",{},{},\"{\"\"android\"\":4,\"\"ios\"\":0}\"\n",
            "225-222@627-wbv-hbk,sg:119eeebd419b415992de4aaca2b22860,,,Clyde Frazier's Wine and Dine,485 10th Ave,New York,NY,10018,US,,,2020-03-02T00:00:00-05:00,2020-03-09T00:00:00-04:00,166,124,\"[16,20,15,19,25,48,23]\",\"[0,0,1,0,0,0,0,1,0,1,1,0,1,1,1,1,0,0,4,3,0,0,1,0,0,0,0,0,0,0,0,1,1,0,2,1,1,0,2,1,3,1,2,2,0,0,3,0,0,0,0,0,1,1,1,2,0,1,2,1,1,2,0,0,0,1,0,1,0,0,1,0,0,0,0,0,0,0,0,2,0,2,1,1,1,0,2,0,3,1,0,3,2,0,1,0,0,0,0,0,0,1,0,1,1,0,0,1,1,0,1,1,1,2,0,4,5,1,4,1,0,0,1,0,0,0,0,1,0,1,2,1,1,5,3,0,3,2,3,22,2,0,1,0,0,0,0,1,0,0,0,2,0,0,1,1,4,3,2,0,2,0,0,2,3,1,0,1]\",360610099001,\"{\"\"361031117041\"\":7,\"\"360610135001\"\":5,\"\"360810267001\"\":4,\"\"484391027003\"\":4,\"\"420171018022\"\":4,\"\"360850273012\"\":4,\"\"360470246002\"\":4,\"\"360470315004\"\":4,\"\"361031118022\"\":4,\"\"360810297002\"\":4,\"\"360610099001\"\":4,\"\"090012002003\"\":4,\"\"361190004013\"\":4,\"\"360050199004\"\":4,\"\"360470866003\"\":4}\",\"{\"\"250092104002\"\":6,\"\"360850248003\"\":5,\"\"361190123033\"\":4,\"\"360610135001\"\":4,\"\"360610117001\"\":4,\"\"420912058083\"\":4,\"\"360470007001\"\":4,\"\"484391022021\"\":4,\"\"360470021001\"\":4,\"\"120860039062\"\":4,\"\"360594134004\"\":4,\"\"360610099001\"\":4,\"\"420171018022\"\":4,\"\"360470336005\"\":4,\"\"360810094001\"\":4,\"\"340390367003\"\":4,\"\"340258096004\"\":4,\"\"360610184003\"\":4,\"\"131210102063\"\":4,\"\"340270419012\"\":4,\"\"360470458001\"\":4}\",\"{\"\"US\"\":115}\",16306,90.0,\"{\"\"<5\"\":4,\"\"5-10\"\":25,\"\"11-20\"\":9,\"\"21-60\"\":34,\"\"61-120\"\":24,\"\"121-240\"\":36,\"\">240\"\":34}\",\"{\"\"Starbucks\"\":26,\"\"Taco Bell\"\":6,\"\"Exxon Mobil\"\":6,\"\"Le Pain Quotidien\"\":6,\"\"Shake Shack\"\":6}\",\"{\"\"Starbucks\"\":19,\"\"Dunkin'\"\":14,\"\"sweetgreen\"\":13,\"\"BP\"\":6,\"\"CVS\"\":6,\"\"Duane Reade by Walgreens\"\":6,\"\"McDonald's\"\":5}\",\"{\"\"android\"\":48,\"\"ios\"\":77}\"\n"
          ]
        }
      ]
    },
    {
      "cell_type": "markdown",
      "metadata": {
        "id": "mGLN0vu0_xOI"
      },
      "source": [
        "# Task 1\n",
        "You must complete the **MRFindReciprocal** class below (which is inherited from MRJob), and your code must run with the **mapreduce.py** package **mr.runJob()** as provided. Th expected output is:\n",
        "```\n",
        "\"The number of restaurants in NYC closed from March 17, 2020\" \"49\"\n",
        "\"The number of restaurants in NYC closed from April 01, 2020\" \"496\"\n",
        "```"
      ]
    },
    {
      "cell_type": "code",
      "metadata": {
        "colab": {
          "base_uri": "https://localhost:8080/"
        },
        "outputId": "06d0f716-20bd-4a5d-dec8-d48243beed38",
        "id": "SUagya64b9-T"
      },
      "source": [
        "import csv\n",
        "import datetime\n",
        "import json\n",
        "import mapreduce as mr\n",
        "from mrjob.job import MRJob\n",
        "from mrjob.step import MRStep\n",
        "from io import StringIO\n",
        "\n",
        "################################\n",
        "### YOUR WORK SHOULD BE HERE ###\n",
        "################################\n",
        "class MRHW2(MRJob):\n",
        "    '''\n",
        "    PLEASE COMPLETE THIS CLASS. THIS SHOULD BE THE ONLY PLACE THAT YOU CAN EDIT.\n",
        "    THE INPUT OF YOUR MAPREDUCE JOB WOULD BE LINE OF TEXT WITHOUT '\\n'.\n",
        "    '''\n",
        "\n",
        "\n",
        "    def mapper_1(self,_,line):\n",
        "      reader = csv.reader(StringIO(line),delimiter=',')\n",
        "        #reader = csv.reader(fi)\n",
        "      for row in reader:\n",
        "        #place_key, city, date_range_start, visits_by_day = line.split(',')\n",
        "        date_range_start = row[12][0:10]\n",
        "        city = row[6]\n",
        "        place_key = row[0]\n",
        "        \n",
        "        if row[0] != 'placekey':\n",
        "          visits_by_day = [int(i) for i in row[16][1:-1].split(',')]\n",
        "          if city in ['New York', 'Brooklyn', 'Queens', 'Bronx', 'Staten Island']:\n",
        "            yield place_key, (date_range_start, visits_by_day)\n",
        "\n",
        "    def reducer_1(self, key1, value1):\n",
        "      yield key1, max(value1)\n",
        "\n",
        "    def mapper_2(self, key1, value1):\n",
        "      start = value1[0]\n",
        "      visits1 = sum(value1[1][1:])\n",
        "      visits2 = sum(value1[1][2:])\n",
        "\n",
        "      if start == '2020-03-16':\n",
        "        if visits1== 0:\n",
        "          yield ('The number of restaurants in NYC closed from March 17, 2020',1)\n",
        "      if start == '2020-03-30':\n",
        "        if visits2 == 0:\n",
        "          yield ('The number of restaurants in NYC closed from April 01, 2020',1)\n",
        "      \n",
        "\n",
        "    def reducer_2(self, key2, value2):\n",
        "      yield key2, sum(value2)\n",
        "\n",
        "    def steps(self):\n",
        "      return [\n",
        "              MRStep(mapper = self.mapper_1,reducer = self.reducer_1),\n",
        "              MRStep(mapper = self.mapper_2,reducer = self.reducer_2)\n",
        "              ]\n",
        "\n",
        "###################################\n",
        "### DO NOT EDIT BELOW THIS LINE ###\n",
        "###################################\n",
        "job = MRHW2(args=[])\n",
        "with open('nyc_restaurant_pattern.csv', 'r') as fi:\n",
        "  next(fi)\n",
        "  output = list(mr.runJob(enumerate(map(lambda x: x.strip(), fi)), job))\n",
        "\n",
        "print(len(output))\n",
        "output"
      ],
      "execution_count": 2,
      "outputs": [
        {
          "output_type": "stream",
          "name": "stdout",
          "text": [
            "2\n"
          ]
        },
        {
          "output_type": "execute_result",
          "data": {
            "text/plain": [
              "[('The number of restaurants in NYC closed from April 01, 2020', 496),\n",
              " ('The number of restaurants in NYC closed from March 17, 2020', 49)]"
            ]
          },
          "metadata": {},
          "execution_count": 2
        }
      ]
    },
    {
      "cell_type": "markdown",
      "metadata": {
        "id": "Jyi-QSkAbTwN"
      },
      "source": [
        "# Task 2\n",
        "You are asked to convert the MR Job Class in Task 1 into a stand-alone `BDM_HW2_NetID.py` file that can be run directly with `python` similar to our Lab 3 and 4.\n"
      ]
    },
    {
      "cell_type": "code",
      "source": [
        "!python BDM_HW2_xx2208.py nyc_restaurant_pattern.csv"
      ],
      "metadata": {
        "id": "QN9rTBtGpkEc",
        "colab": {
          "base_uri": "https://localhost:8080/"
        },
        "outputId": "29121452-342d-4c5d-dae9-414c827fb0aa"
      },
      "execution_count": 4,
      "outputs": [
        {
          "output_type": "stream",
          "name": "stdout",
          "text": [
            "No configs found; falling back on auto-configuration\n",
            "No configs specified for inline runner\n",
            "Creating temp directory /tmp/BDM_HW2_xx2208.root.20220308.175637.562374\n",
            "Running step 1 of 2...\n",
            "Running step 2 of 2...\n",
            "job output is in /tmp/BDM_HW2_xx2208.root.20220308.175637.562374/output\n",
            "Streaming final output from /tmp/BDM_HW2_xx2208.root.20220308.175637.562374/output...\n",
            "\"The number of restaurants in NYC closed from March 17, 2020\"\t49\n",
            "\"The number of restaurants in NYC closed from April 01, 2020\"\t496\n",
            "Removing temp directory /tmp/BDM_HW2_xx2208.root.20220308.175637.562374...\n"
          ]
        }
      ]
    }
  ]
}