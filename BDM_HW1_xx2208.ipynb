{
  "nbformat": 4,
  "nbformat_minor": 0,
  "metadata": {
    "colab": {
      "name": "BDM_HW1_xx2208",
      "provenance": [],
      "collapsed_sections": []
    },
    "kernelspec": {
      "name": "python3",
      "display_name": "Python 3"
    }
  },
  "cells": [
    {
      "cell_type": "markdown",
      "metadata": {
        "id": "lvnKTXzOO5p_"
      },
      "source": [
        "# Homework 1 - Streaming (15 pts)\n",
        "\n",
        "Please turn in your note book naming as **BDM\\_HW1\\_NetID.ipynb**."
      ]
    },
    {
      "cell_type": "markdown",
      "metadata": {
        "id": "MGjOHTNOL9Lr"
      },
      "source": [
        "\n",
        "## Task 1 (5 points)\n",
        "\n",
        "You are asked to write a Python generator that takes a sequence of characters as input (think of it as a string iterator that can only be traversed forward) and returns a generator of substrings containing consecutive characters in the string. For example, substrings of consecutive characters in `'Good morning !!!'` are `'oo'` and `'!!!'`. Your task is to complete the generator below (only fill in the body of **`findDuplicateSequence()`**)."
      ]
    },
    {
      "cell_type": "code",
      "metadata": {
        "id": "OgKRE6WvL9Ls"
      },
      "source": [
        "def findDuplicateSequence(s):\n",
        "    # YOU CAN ONLY EDIT BELOW THIS LINE\n",
        "    result = filter(lambda x: len(x)>1, reduce(lambda x,y: x+y if x[-1] == y else x+','+y,s,',').split(','))\n",
        "    return result\n",
        "from functools import reduce"
      ],
      "execution_count": null,
      "outputs": []
    },
    {
      "cell_type": "code",
      "source": [
        "\n",
        "# DO NOT EDIT THIS CELL, YOU CAN USE THIS TO CHECK THE CODE IN THE PREVIOUS CELL\n",
        "\n",
        "print(repr(next(findDuplicateSequence(iter('aabccccedaaa'))))) # 'aa'\n",
        "print(list(findDuplicateSequence(iter('aabccccedaaa')))) # 'aa', 'cccc', 'aaa'\n",
        "print(list(findDuplicateSequence(iter('Good morning!!!')))) # 'oo', '!!!'"
      ],
      "metadata": {
        "colab": {
          "base_uri": "https://localhost:8080/"
        },
        "id": "dKyZwsCq9Ldd",
        "outputId": "28f8ef84-bd12-4db1-b4b7-0b39cc8e6814"
      },
      "execution_count": null,
      "outputs": [
        {
          "output_type": "stream",
          "name": "stdout",
          "text": [
            "'aa'\n",
            "['aa', 'cccc', 'aaa']\n",
            "['oo', '!!!']\n"
          ]
        }
      ]
    },
    {
      "cell_type": "markdown",
      "metadata": {
        "id": "4D1Sn_NiL9Ls"
      },
      "source": [
        "\n",
        "## Task 2 (10 points)\n",
        "\n",
        "We are greatly inspired by the [Consumer Complaints](https://github.com/InsightDataScience/consumer_complaints) challenge from [InsightDataScience](https://github.com/InsightDataScience/). In fact, we are going to tackle the same challenge but streaming. Please read through the challenge at the following link (the most important sections are “Input dataset” and “Expected output”):\n",
        "\n",
        "<https://github.com/InsightDataScience/consumer_complaints>\n",
        "\n",
        "Our problem is different than the one above in that the INPUT is also <ins>sorted by product (alphabetically) and year (ascending)</ins>, similar to the requested output format. You are asked to complete the generator below to produce the expected output. You should not edit any other code.\n",
        "\n",
        "### INPUT\n",
        "Your code will be evaluated against the original data set (in CSV format) downloaded from the below link (of course with a sorted version). For your convenience, a smaller version of the file is provided below for testing purposes.\n",
        "\n",
        "https://www.consumerfinance.gov/data-research/consumer-complaints/#download-the-data\n",
        "\n"
      ]
    },
    {
      "cell_type": "code",
      "metadata": {
        "id": "Xf4WQNpEi021",
        "colab": {
          "base_uri": "https://localhost:8080/"
        },
        "outputId": "14bee65f-3dda-4135-a2c7-ddd7c8412665"
      },
      "source": [
        "!gdown --id 1-IeoZDwT5wQzBUpsaS5B6vTaP-2ZBkam -O complaints.csv\n",
        "!head -n 1 complaints.csv"
      ],
      "execution_count": null,
      "outputs": [
        {
          "output_type": "stream",
          "name": "stdout",
          "text": [
            "Downloading...\n",
            "From: https://drive.google.com/uc?id=1-IeoZDwT5wQzBUpsaS5B6vTaP-2ZBkam\n",
            "To: /content/complaints.csv\n",
            "100% 3.91M/3.91M [00:00<00:00, 166MB/s]\n",
            "Date received,Product,Sub-product,Issue,Sub-issue,Consumer complaint narrative,Company public response,Company,State,ZIP code,Tags,Consumer consent provided?,Submitted via,Date sent to company,Company response to consumer,Timely response?,Consumer disputed?,Complaint ID\n"
          ]
        }
      ]
    },
    {
      "cell_type": "code",
      "source": [
        "!head -n 2 complaints.csv\n",
        "!pip install mrjob\n",
        "!gdown --id 1sq4-zXn2Z82mdLSBBegEgsUsfqtgza-C -O mapreduce.py"
      ],
      "metadata": {
        "colab": {
          "base_uri": "https://localhost:8080/"
        },
        "id": "bs6fshwhwAZw",
        "outputId": "9e906b1d-9b6c-405e-d168-d90f720d940c"
      },
      "execution_count": null,
      "outputs": [
        {
          "output_type": "stream",
          "name": "stdout",
          "text": [
            "Date received,Product,Sub-product,Issue,Sub-issue,Consumer complaint narrative,Company public response,Company,State,ZIP code,Tags,Consumer consent provided?,Submitted via,Date sent to company,Company response to consumer,Timely response?,Consumer disputed?,Complaint ID\r\n",
            "2015-12-31,Bank account or service,Checking account,\"Making/receiving payments, sending money\",,,,FIRSTBANK PUERTO RICO,PR,00902,Older American,N/A,Referral,2016-02-04,Closed with explanation,Yes,No,1723943\r\n",
            "Requirement already satisfied: mrjob in /usr/local/lib/python3.7/dist-packages (0.7.4)\n",
            "Requirement already satisfied: PyYAML>=3.10 in /usr/local/lib/python3.7/dist-packages (from mrjob) (3.13)\n",
            "Access denied with the following error:\n",
            "\n",
            " \tCannot retrieve the public link of the file. You may need to change\n",
            "\tthe permission to 'Anyone with the link', or have had many accesses. \n",
            "\n",
            "You may still be able to access the file from the browser:\n",
            "\n",
            "\t https://drive.google.com/uc?id=1sq4-zXn2Z82mdLSBBegEgsUsfqtgza-C \n",
            "\n"
          ]
        }
      ]
    },
    {
      "cell_type": "code",
      "source": [
        "import csv\n",
        "import mapreduce as mr"
      ],
      "metadata": {
        "id": "kYejnUD6nHz0"
      },
      "execution_count": null,
      "outputs": []
    },
    {
      "cell_type": "code",
      "source": [
        "def task2(reader):\n",
        "  # YOU CAN ONLY EDIT THE CODE BELOW THIS LINE\n",
        "  def mapper1(_, row):\n",
        "    product_time_company = row['Product'].lower(), row['Date received'].split('-')[0], row['Company']\n",
        "    yield (product_time_company,1)\n",
        "  def reducer1(product_time_company, company_time_counts):\n",
        "    yield (product_time_company,sum(company_time_counts))\n",
        "\n",
        "  def mapper2(product_time_company, counts):#total number of complaints received for that product and year\n",
        "      yield ((product_time_company[0], product_time_company[1]), counts)\n",
        "  def reducer2(product_time, product_counts):\n",
        "      yield (product_time,sum(product_counts))\n",
        "\n",
        "  def mapper3(prodcut_time_company, counts):#total number of companies receiving at least one complaint for that product and year\n",
        "      yield ((prodcut_time_company[0], prodcut_time_company[1]), 1)\n",
        "  def reducer3(product_time, counts):\n",
        "      yield (product_time, sum(counts))\n",
        "\n",
        "  def mapper4(prodcut_time_company, counts):#max\n",
        "    yield ((prodcut_time_company[0], prodcut_time_company[1]), (prodcut_time_company [2], counts))\n",
        "  def reducer4(prodcut_time, company_counts):\n",
        "    yield (prodcut_time, (max(company_counts, key=lambda x: x[1])))\n",
        "\n",
        "  row = enumerate(reader)\n",
        "  output1 = list(mr.run(row, mapper1, reducer1))\n",
        "  output2 = list(mr.run(output1, mapper2, reducer2))\n",
        "  output3 = list(mr.run(output1, mapper3, reducer3))\n",
        "  output4 = list(mr.run(output1, mapper4, reducer4))\n",
        "  \n",
        "  result = []\n",
        "  for i in range(len(output3)):\n",
        "    result.append(output4[i][0] + (output3[i][1],) + (output2[i][1],) +(int(output4[i][1][1] / output2[i][1]*100),))\n",
        "  return result\n",
        "\n",
        "  pass"
      ],
      "metadata": {
        "id": "xUSWAOVtCjrt"
      },
      "execution_count": null,
      "outputs": []
    },
    {
      "cell_type": "code",
      "metadata": {
        "colab": {
          "base_uri": "https://localhost:8080/"
        },
        "id": "vdF8fvHjTScK",
        "outputId": "cdc9f8de-719e-47ce-8bf9-b33b5ed76c7d"
      },
      "source": [
        "# DO NOT EDIT THIS CELL, YOU CAN RUN TO QUICKLY CHECK YOUR RESULTS\n",
        "\n",
        "import csv\n",
        "\n",
        "with open('complaints.csv', 'r') as fi, open('output.csv', 'w') as fo:\n",
        "  reader = csv.DictReader(fi)\n",
        "  writer = csv.writer(fo)\n",
        "  for row in task2(reader):\n",
        "    writer.writerow(row)\n",
        "\n",
        "!head output.csv"
      ],
      "execution_count": null,
      "outputs": [
        {
          "output_type": "stream",
          "name": "stdout",
          "text": [
            "bank account or service,2015,1,1,100\r\n",
            "bank account or service,2016,2,2,50\r\n",
            "checking or savings account,2017,1,1,100\r\n",
            "checking or savings account,2018,10,20,25\r\n",
            "checking or savings account,2019,72,461,13\r\n",
            "checking or savings account,2020,3,3,33\r\n",
            "consumer loan,2015,1,1,100\r\n",
            "consumer loan,2016,1,1,100\r\n",
            "consumer loan,2017,1,1,100\r\n",
            "credit card,2016,4,4,25\r\n"
          ]
        }
      ]
    },
    {
      "cell_type": "code",
      "source": [
        ""
      ],
      "metadata": {
        "id": "QUrPIPjWkh9w"
      },
      "execution_count": null,
      "outputs": []
    }
  ]
}